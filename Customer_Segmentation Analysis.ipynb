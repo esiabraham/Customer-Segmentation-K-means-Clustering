{
 "cells": [
  {
   "cell_type": "code",
   "execution_count": null,
   "id": "0dcbb835",
   "metadata": {},
   "outputs": [],
   "source": []
  },
  {
   "cell_type": "markdown",
   "id": "efe2056d",
   "metadata": {},
   "source": [
    "### PROBLEM STATEMENT\n",
    "A retail firm wants to understand their customers,and divide them into segments to\n",
    "optimize the significance of each customer to the business.\n",
    "\n",
    "### Objectives\n",
    "Segment customers using a machine learning algorithm (KMeans Clustering) in\n",
    "Python.\n",
    "\n",
    "Who are your target customers with whom you can start a marketing\n",
    "strategy?\n",
    "\n",
    "**PROCESSES**\n",
    "\n",
    "Understand the data\n",
    "\n",
    "Drop features not needed for the clustering\n",
    "\n",
    "Perform elbow method to find optimal number of clusters to be use for building the model\n",
    "\n",
    "Training the model using unsupervised learning algorithm - KMeans to segment customers\n",
    "\n",
    "Plotting the clusters\n",
    "\n",
    "\n",
    "## Table Of Content\n",
    "[Cleaning and understanding the Data](#.Cleaning-and-understanding-the-data)\n",
    "\n",
    "Import necessary libraries\n",
    "\n",
    "Check shape and info of data\n",
    "\n",
    "Check for missing values in data\n",
    "\n",
    "Drop features not needed\n",
    "\n",
    "Prepare data for clustering\n",
    "\n",
    "[Feature Engineering](#.Feature-Engineering)\n",
    "\n",
    "Metrics that represent customers behaviour were created to from the already existing variables. The metrics includes Recency,Frequency and Monetary. Segmentation will be done using these metrics.\n",
    "\n",
    "[Data preprocessing for modelling](#.Data-preprocessing-for-modelling)\n",
    "\n",
    "Here, the metrics are transformed using the square root function to enhace the KMeans clustering.\n",
    "\n",
    "[Perform Elbow Method to find the optimal number of clusters](#.Elbow-Plot)\n",
    "\n",
    "KMeans form of clustering is used in this project were an iteration from 1-11 is clustered and plotted using a elbow plot\n",
    "\n",
    "After the number of clusters to be used is determined.\n",
    "\n",
    "[Train the model](#.Training-model)\n",
    "\n",
    "Initiate KMeans models with selected optimal number of clusters\n",
    "\n",
    "Plot clusters to gain insight regarding our customers\n",
    "\n",
    "[Analyzing each cluster](#.Analysing-Clusters)\n",
    "\n",
    "Here, analysis of each cluster to regards Recency Frequency and Monetary value is provided.\n",
    "\n",
    "[Merging and saving Data](#.Merging-and-saving-data)\n",
    "\n",
    "Here clusters are merged with original data. Index is resetted and data saved.\n",
    "\n",
    "[Conclusion and Recommendations](#.Conclusion-and-recommendation)\n",
    "\n",
    "This is the final stage. It comprises the report on the the findings from the project and recomendations.\n"
   ]
  },
  {
   "cell_type": "markdown",
   "id": "573f805e",
   "metadata": {},
   "source": [
    "### Importing neccesary libraries "
   ]
  },
  {
   "cell_type": "code",
   "execution_count": 1,
   "id": "51472fcb",
   "metadata": {},
   "outputs": [],
   "source": [
    "# importing libraries \n",
    "import pandas as pd\n",
    "import numpy as np\n",
    "import matplotlib.pyplot as plt\n",
    "import seaborn as sns\n",
    "sns.set()\n",
    "\n",
    "# importing ML libraries \n",
    "from sklearn.preprocessing import StandardScaler\n",
    "from sklearn.cluster import KMeans\n",
    "\n",
    "from sklearn.preprocessing import OneHotEncoder"
   ]
  },
  {
   "cell_type": "markdown",
   "id": "3f677f86",
   "metadata": {},
   "source": [
    "### Cleaning and understanding the data\n"
   ]
  },
  {
   "cell_type": "code",
   "execution_count": 2,
   "id": "2bea8352",
   "metadata": {
    "scrolled": false
   },
   "outputs": [
    {
     "data": {
      "text/html": [
       "<div>\n",
       "<style scoped>\n",
       "    .dataframe tbody tr th:only-of-type {\n",
       "        vertical-align: middle;\n",
       "    }\n",
       "\n",
       "    .dataframe tbody tr th {\n",
       "        vertical-align: top;\n",
       "    }\n",
       "\n",
       "    .dataframe thead th {\n",
       "        text-align: right;\n",
       "    }\n",
       "</style>\n",
       "<table border=\"1\" class=\"dataframe\">\n",
       "  <thead>\n",
       "    <tr style=\"text-align: right;\">\n",
       "      <th></th>\n",
       "      <th>Row ID</th>\n",
       "      <th>Order ID</th>\n",
       "      <th>Order Date</th>\n",
       "      <th>Customer ID</th>\n",
       "      <th>Country</th>\n",
       "      <th>Market</th>\n",
       "      <th>Region</th>\n",
       "      <th>Product ID</th>\n",
       "      <th>Category</th>\n",
       "      <th>Sub-Category</th>\n",
       "      <th>Product Name</th>\n",
       "      <th>Sales</th>\n",
       "      <th>Quantity</th>\n",
       "    </tr>\n",
       "  </thead>\n",
       "  <tbody>\n",
       "    <tr>\n",
       "      <th>0</th>\n",
       "      <td>42433</td>\n",
       "      <td>AG-2011-2040</td>\n",
       "      <td>2011-01-01</td>\n",
       "      <td>TB-11280</td>\n",
       "      <td>Algeria</td>\n",
       "      <td>Africa</td>\n",
       "      <td>Africa</td>\n",
       "      <td>OFF-TEN-10000025</td>\n",
       "      <td>Office Supplies</td>\n",
       "      <td>Storage</td>\n",
       "      <td>Tenex Lockers, Blue</td>\n",
       "      <td>408.300</td>\n",
       "      <td>2</td>\n",
       "    </tr>\n",
       "    <tr>\n",
       "      <th>1</th>\n",
       "      <td>22253</td>\n",
       "      <td>IN-2011-47883</td>\n",
       "      <td>2011-01-01</td>\n",
       "      <td>JH-15985</td>\n",
       "      <td>Australia</td>\n",
       "      <td>APAC</td>\n",
       "      <td>Oceania</td>\n",
       "      <td>OFF-SU-10000618</td>\n",
       "      <td>Office Supplies</td>\n",
       "      <td>Supplies</td>\n",
       "      <td>Acme Trimmer, High Speed</td>\n",
       "      <td>120.366</td>\n",
       "      <td>3</td>\n",
       "    </tr>\n",
       "    <tr>\n",
       "      <th>2</th>\n",
       "      <td>48883</td>\n",
       "      <td>HU-2011-1220</td>\n",
       "      <td>2011-01-01</td>\n",
       "      <td>AT-735</td>\n",
       "      <td>Hungary</td>\n",
       "      <td>EMEA</td>\n",
       "      <td>EMEA</td>\n",
       "      <td>OFF-TEN-10001585</td>\n",
       "      <td>Office Supplies</td>\n",
       "      <td>Storage</td>\n",
       "      <td>Tenex Box, Single Width</td>\n",
       "      <td>66.120</td>\n",
       "      <td>4</td>\n",
       "    </tr>\n",
       "    <tr>\n",
       "      <th>3</th>\n",
       "      <td>11731</td>\n",
       "      <td>IT-2011-3647632</td>\n",
       "      <td>2011-01-01</td>\n",
       "      <td>EM-14140</td>\n",
       "      <td>Sweden</td>\n",
       "      <td>EU</td>\n",
       "      <td>North</td>\n",
       "      <td>OFF-PA-10001492</td>\n",
       "      <td>Office Supplies</td>\n",
       "      <td>Paper</td>\n",
       "      <td>Enermax Note Cards, Premium</td>\n",
       "      <td>44.865</td>\n",
       "      <td>3</td>\n",
       "    </tr>\n",
       "    <tr>\n",
       "      <th>4</th>\n",
       "      <td>22255</td>\n",
       "      <td>IN-2011-47883</td>\n",
       "      <td>2011-01-01</td>\n",
       "      <td>JH-15985</td>\n",
       "      <td>Australia</td>\n",
       "      <td>APAC</td>\n",
       "      <td>Oceania</td>\n",
       "      <td>FUR-FU-10003447</td>\n",
       "      <td>Furniture</td>\n",
       "      <td>Furnishings</td>\n",
       "      <td>Eldon Light Bulb, Duo Pack</td>\n",
       "      <td>113.670</td>\n",
       "      <td>5</td>\n",
       "    </tr>\n",
       "    <tr>\n",
       "      <th>...</th>\n",
       "      <td>...</td>\n",
       "      <td>...</td>\n",
       "      <td>...</td>\n",
       "      <td>...</td>\n",
       "      <td>...</td>\n",
       "      <td>...</td>\n",
       "      <td>...</td>\n",
       "      <td>...</td>\n",
       "      <td>...</td>\n",
       "      <td>...</td>\n",
       "      <td>...</td>\n",
       "      <td>...</td>\n",
       "      <td>...</td>\n",
       "    </tr>\n",
       "    <tr>\n",
       "      <th>51285</th>\n",
       "      <td>32593</td>\n",
       "      <td>CA-2014-115427</td>\n",
       "      <td>2014-12-31</td>\n",
       "      <td>EB-13975</td>\n",
       "      <td>United States</td>\n",
       "      <td>US</td>\n",
       "      <td>West</td>\n",
       "      <td>OFF-BI-10002103</td>\n",
       "      <td>Office Supplies</td>\n",
       "      <td>Binders</td>\n",
       "      <td>Cardinal Slant-D Ring Binder, Heavy Gauge Vinyl</td>\n",
       "      <td>13.904</td>\n",
       "      <td>2</td>\n",
       "    </tr>\n",
       "    <tr>\n",
       "      <th>51286</th>\n",
       "      <td>47594</td>\n",
       "      <td>MO-2014-2560</td>\n",
       "      <td>2014-12-31</td>\n",
       "      <td>LP-7095</td>\n",
       "      <td>Morocco</td>\n",
       "      <td>Africa</td>\n",
       "      <td>Africa</td>\n",
       "      <td>OFF-WIL-10001069</td>\n",
       "      <td>Office Supplies</td>\n",
       "      <td>Binders</td>\n",
       "      <td>Wilson Jones Hole Reinforcements, Clear</td>\n",
       "      <td>3.990</td>\n",
       "      <td>1</td>\n",
       "    </tr>\n",
       "    <tr>\n",
       "      <th>51287</th>\n",
       "      <td>8857</td>\n",
       "      <td>MX-2014-110527</td>\n",
       "      <td>2014-12-31</td>\n",
       "      <td>CM-12190</td>\n",
       "      <td>Nicaragua</td>\n",
       "      <td>LATAM</td>\n",
       "      <td>Central</td>\n",
       "      <td>OFF-LA-10004182</td>\n",
       "      <td>Office Supplies</td>\n",
       "      <td>Labels</td>\n",
       "      <td>Hon Color Coded Labels, 5000 Label Set</td>\n",
       "      <td>26.400</td>\n",
       "      <td>3</td>\n",
       "    </tr>\n",
       "    <tr>\n",
       "      <th>51288</th>\n",
       "      <td>6852</td>\n",
       "      <td>MX-2014-114783</td>\n",
       "      <td>2014-12-31</td>\n",
       "      <td>TD-20995</td>\n",
       "      <td>Mexico</td>\n",
       "      <td>LATAM</td>\n",
       "      <td>North</td>\n",
       "      <td>OFF-LA-10000413</td>\n",
       "      <td>Office Supplies</td>\n",
       "      <td>Labels</td>\n",
       "      <td>Hon Legal Exhibit Labels, Alphabetical</td>\n",
       "      <td>7.120</td>\n",
       "      <td>1</td>\n",
       "    </tr>\n",
       "    <tr>\n",
       "      <th>51289</th>\n",
       "      <td>36388</td>\n",
       "      <td>CA-2014-156720</td>\n",
       "      <td>2014-12-31</td>\n",
       "      <td>JM-15580</td>\n",
       "      <td>United States</td>\n",
       "      <td>US</td>\n",
       "      <td>West</td>\n",
       "      <td>OFF-FA-10003472</td>\n",
       "      <td>Office Supplies</td>\n",
       "      <td>Fasteners</td>\n",
       "      <td>Bagged Rubber Bands</td>\n",
       "      <td>3.024</td>\n",
       "      <td>3</td>\n",
       "    </tr>\n",
       "  </tbody>\n",
       "</table>\n",
       "<p>51290 rows × 13 columns</p>\n",
       "</div>"
      ],
      "text/plain": [
       "       Row ID         Order ID Order Date Customer ID        Country  Market  \\\n",
       "0       42433     AG-2011-2040 2011-01-01    TB-11280        Algeria  Africa   \n",
       "1       22253    IN-2011-47883 2011-01-01    JH-15985      Australia    APAC   \n",
       "2       48883     HU-2011-1220 2011-01-01      AT-735        Hungary    EMEA   \n",
       "3       11731  IT-2011-3647632 2011-01-01    EM-14140         Sweden      EU   \n",
       "4       22255    IN-2011-47883 2011-01-01    JH-15985      Australia    APAC   \n",
       "...       ...              ...        ...         ...            ...     ...   \n",
       "51285   32593   CA-2014-115427 2014-12-31    EB-13975  United States      US   \n",
       "51286   47594     MO-2014-2560 2014-12-31     LP-7095        Morocco  Africa   \n",
       "51287    8857   MX-2014-110527 2014-12-31    CM-12190      Nicaragua   LATAM   \n",
       "51288    6852   MX-2014-114783 2014-12-31    TD-20995         Mexico   LATAM   \n",
       "51289   36388   CA-2014-156720 2014-12-31    JM-15580  United States      US   \n",
       "\n",
       "        Region        Product ID         Category Sub-Category  \\\n",
       "0       Africa  OFF-TEN-10000025  Office Supplies      Storage   \n",
       "1      Oceania   OFF-SU-10000618  Office Supplies     Supplies   \n",
       "2         EMEA  OFF-TEN-10001585  Office Supplies      Storage   \n",
       "3        North   OFF-PA-10001492  Office Supplies        Paper   \n",
       "4      Oceania   FUR-FU-10003447        Furniture  Furnishings   \n",
       "...        ...               ...              ...          ...   \n",
       "51285     West   OFF-BI-10002103  Office Supplies      Binders   \n",
       "51286   Africa  OFF-WIL-10001069  Office Supplies      Binders   \n",
       "51287  Central   OFF-LA-10004182  Office Supplies       Labels   \n",
       "51288    North   OFF-LA-10000413  Office Supplies       Labels   \n",
       "51289     West   OFF-FA-10003472  Office Supplies    Fasteners   \n",
       "\n",
       "                                          Product Name    Sales  Quantity  \n",
       "0                                  Tenex Lockers, Blue  408.300         2  \n",
       "1                             Acme Trimmer, High Speed  120.366         3  \n",
       "2                              Tenex Box, Single Width   66.120         4  \n",
       "3                          Enermax Note Cards, Premium   44.865         3  \n",
       "4                           Eldon Light Bulb, Duo Pack  113.670         5  \n",
       "...                                                ...      ...       ...  \n",
       "51285  Cardinal Slant-D Ring Binder, Heavy Gauge Vinyl   13.904         2  \n",
       "51286          Wilson Jones Hole Reinforcements, Clear    3.990         1  \n",
       "51287           Hon Color Coded Labels, 5000 Label Set   26.400         3  \n",
       "51288           Hon Legal Exhibit Labels, Alphabetical    7.120         1  \n",
       "51289                              Bagged Rubber Bands    3.024         3  \n",
       "\n",
       "[51290 rows x 13 columns]"
      ]
     },
     "execution_count": 2,
     "metadata": {},
     "output_type": "execute_result"
    }
   ],
   "source": [
    "# reading data. Date is parsed to maintain datetime type \n",
    "store = pd.read_csv('store_data.csv',parse_dates = ['Order Date'],encoding = 'latin1')\n",
    "store"
   ]
  },
  {
   "cell_type": "code",
   "execution_count": 3,
   "id": "d6abd8e4",
   "metadata": {
    "scrolled": false
   },
   "outputs": [
    {
     "name": "stdout",
     "output_type": "stream",
     "text": [
      "The data contains 51290 rows and 13 columns.\n"
     ]
    }
   ],
   "source": [
    "print(f'The data contains {store.shape[0]} rows and {store.shape[1]} columns.')"
   ]
  },
  {
   "cell_type": "markdown",
   "id": "232f6cb1",
   "metadata": {},
   "source": [
    "### Exploratory data analysis"
   ]
  },
  {
   "cell_type": "code",
   "execution_count": 4,
   "id": "2ee67f8b",
   "metadata": {
    "scrolled": false
   },
   "outputs": [
    {
     "name": "stdout",
     "output_type": "stream",
     "text": [
      "<class 'pandas.core.frame.DataFrame'>\n",
      "RangeIndex: 51290 entries, 0 to 51289\n",
      "Data columns (total 13 columns):\n",
      " #   Column        Non-Null Count  Dtype         \n",
      "---  ------        --------------  -----         \n",
      " 0   Row ID        51290 non-null  int64         \n",
      " 1   Order ID      51290 non-null  object        \n",
      " 2   Order Date    51290 non-null  datetime64[ns]\n",
      " 3   Customer ID   51290 non-null  object        \n",
      " 4   Country       51290 non-null  object        \n",
      " 5   Market        51290 non-null  object        \n",
      " 6   Region        51290 non-null  object        \n",
      " 7   Product ID    51290 non-null  object        \n",
      " 8   Category      51290 non-null  object        \n",
      " 9   Sub-Category  51290 non-null  object        \n",
      " 10  Product Name  51290 non-null  object        \n",
      " 11  Sales         51290 non-null  float64       \n",
      " 12  Quantity      51290 non-null  int64         \n",
      "dtypes: datetime64[ns](1), float64(1), int64(2), object(9)\n",
      "memory usage: 5.1+ MB\n"
     ]
    }
   ],
   "source": [
    "store.info()"
   ]
  },
  {
   "cell_type": "markdown",
   "id": "79d247de",
   "metadata": {},
   "source": [
    "### Feature Engineering\n"
   ]
  },
  {
   "cell_type": "markdown",
   "id": "14d2546c",
   "metadata": {},
   "source": [
    "##### Dropping columns not needed for model"
   ]
  },
  {
   "cell_type": "code",
   "execution_count": 5,
   "id": "8bb64ae1",
   "metadata": {
    "scrolled": true
   },
   "outputs": [
    {
     "data": {
      "text/html": [
       "<div>\n",
       "<style scoped>\n",
       "    .dataframe tbody tr th:only-of-type {\n",
       "        vertical-align: middle;\n",
       "    }\n",
       "\n",
       "    .dataframe tbody tr th {\n",
       "        vertical-align: top;\n",
       "    }\n",
       "\n",
       "    .dataframe thead th {\n",
       "        text-align: right;\n",
       "    }\n",
       "</style>\n",
       "<table border=\"1\" class=\"dataframe\">\n",
       "  <thead>\n",
       "    <tr style=\"text-align: right;\">\n",
       "      <th></th>\n",
       "      <th>Order ID</th>\n",
       "      <th>Order Date</th>\n",
       "      <th>Customer ID</th>\n",
       "      <th>Sales</th>\n",
       "    </tr>\n",
       "  </thead>\n",
       "  <tbody>\n",
       "    <tr>\n",
       "      <th>0</th>\n",
       "      <td>AG-2011-2040</td>\n",
       "      <td>2011-01-01</td>\n",
       "      <td>TB-11280</td>\n",
       "      <td>408.300</td>\n",
       "    </tr>\n",
       "    <tr>\n",
       "      <th>1</th>\n",
       "      <td>IN-2011-47883</td>\n",
       "      <td>2011-01-01</td>\n",
       "      <td>JH-15985</td>\n",
       "      <td>120.366</td>\n",
       "    </tr>\n",
       "    <tr>\n",
       "      <th>2</th>\n",
       "      <td>HU-2011-1220</td>\n",
       "      <td>2011-01-01</td>\n",
       "      <td>AT-735</td>\n",
       "      <td>66.120</td>\n",
       "    </tr>\n",
       "    <tr>\n",
       "      <th>3</th>\n",
       "      <td>IT-2011-3647632</td>\n",
       "      <td>2011-01-01</td>\n",
       "      <td>EM-14140</td>\n",
       "      <td>44.865</td>\n",
       "    </tr>\n",
       "    <tr>\n",
       "      <th>4</th>\n",
       "      <td>IN-2011-47883</td>\n",
       "      <td>2011-01-01</td>\n",
       "      <td>JH-15985</td>\n",
       "      <td>113.670</td>\n",
       "    </tr>\n",
       "    <tr>\n",
       "      <th>...</th>\n",
       "      <td>...</td>\n",
       "      <td>...</td>\n",
       "      <td>...</td>\n",
       "      <td>...</td>\n",
       "    </tr>\n",
       "    <tr>\n",
       "      <th>51285</th>\n",
       "      <td>CA-2014-115427</td>\n",
       "      <td>2014-12-31</td>\n",
       "      <td>EB-13975</td>\n",
       "      <td>13.904</td>\n",
       "    </tr>\n",
       "    <tr>\n",
       "      <th>51286</th>\n",
       "      <td>MO-2014-2560</td>\n",
       "      <td>2014-12-31</td>\n",
       "      <td>LP-7095</td>\n",
       "      <td>3.990</td>\n",
       "    </tr>\n",
       "    <tr>\n",
       "      <th>51287</th>\n",
       "      <td>MX-2014-110527</td>\n",
       "      <td>2014-12-31</td>\n",
       "      <td>CM-12190</td>\n",
       "      <td>26.400</td>\n",
       "    </tr>\n",
       "    <tr>\n",
       "      <th>51288</th>\n",
       "      <td>MX-2014-114783</td>\n",
       "      <td>2014-12-31</td>\n",
       "      <td>TD-20995</td>\n",
       "      <td>7.120</td>\n",
       "    </tr>\n",
       "    <tr>\n",
       "      <th>51289</th>\n",
       "      <td>CA-2014-156720</td>\n",
       "      <td>2014-12-31</td>\n",
       "      <td>JM-15580</td>\n",
       "      <td>3.024</td>\n",
       "    </tr>\n",
       "  </tbody>\n",
       "</table>\n",
       "<p>51290 rows × 4 columns</p>\n",
       "</div>"
      ],
      "text/plain": [
       "              Order ID Order Date Customer ID    Sales\n",
       "0         AG-2011-2040 2011-01-01    TB-11280  408.300\n",
       "1        IN-2011-47883 2011-01-01    JH-15985  120.366\n",
       "2         HU-2011-1220 2011-01-01      AT-735   66.120\n",
       "3      IT-2011-3647632 2011-01-01    EM-14140   44.865\n",
       "4        IN-2011-47883 2011-01-01    JH-15985  113.670\n",
       "...                ...        ...         ...      ...\n",
       "51285   CA-2014-115427 2014-12-31    EB-13975   13.904\n",
       "51286     MO-2014-2560 2014-12-31     LP-7095    3.990\n",
       "51287   MX-2014-110527 2014-12-31    CM-12190   26.400\n",
       "51288   MX-2014-114783 2014-12-31    TD-20995    7.120\n",
       "51289   CA-2014-156720 2014-12-31    JM-15580    3.024\n",
       "\n",
       "[51290 rows x 4 columns]"
      ]
     },
     "execution_count": 5,
     "metadata": {},
     "output_type": "execute_result"
    }
   ],
   "source": [
    "df= store.drop(['Row ID','Country','Region','Product ID','Category','Sub-Category','Product Name','Quantity','Market'],\n",
    "           axis = 'columns')\n",
    "df"
   ]
  },
  {
   "cell_type": "markdown",
   "id": "f36859e6",
   "metadata": {},
   "source": [
    "#### Creating Snapshot date\n",
    "\n",
    "Snapshot date is the date of report. This date should be current than the most current date in the dataset.\n",
    "\n"
   ]
  },
  {
   "cell_type": "code",
   "execution_count": 6,
   "id": "2d5bee1e",
   "metadata": {
    "scrolled": false
   },
   "outputs": [
    {
     "data": {
      "text/html": [
       "<div>\n",
       "<style scoped>\n",
       "    .dataframe tbody tr th:only-of-type {\n",
       "        vertical-align: middle;\n",
       "    }\n",
       "\n",
       "    .dataframe tbody tr th {\n",
       "        vertical-align: top;\n",
       "    }\n",
       "\n",
       "    .dataframe thead th {\n",
       "        text-align: right;\n",
       "    }\n",
       "</style>\n",
       "<table border=\"1\" class=\"dataframe\">\n",
       "  <thead>\n",
       "    <tr style=\"text-align: right;\">\n",
       "      <th></th>\n",
       "      <th>Order ID</th>\n",
       "      <th>Order Date</th>\n",
       "      <th>Customer ID</th>\n",
       "      <th>Sales</th>\n",
       "    </tr>\n",
       "  </thead>\n",
       "  <tbody>\n",
       "    <tr>\n",
       "      <th>51285</th>\n",
       "      <td>CA-2014-115427</td>\n",
       "      <td>2014-12-31</td>\n",
       "      <td>EB-13975</td>\n",
       "      <td>13.904</td>\n",
       "    </tr>\n",
       "    <tr>\n",
       "      <th>51286</th>\n",
       "      <td>MO-2014-2560</td>\n",
       "      <td>2014-12-31</td>\n",
       "      <td>LP-7095</td>\n",
       "      <td>3.990</td>\n",
       "    </tr>\n",
       "    <tr>\n",
       "      <th>51287</th>\n",
       "      <td>MX-2014-110527</td>\n",
       "      <td>2014-12-31</td>\n",
       "      <td>CM-12190</td>\n",
       "      <td>26.400</td>\n",
       "    </tr>\n",
       "    <tr>\n",
       "      <th>51288</th>\n",
       "      <td>MX-2014-114783</td>\n",
       "      <td>2014-12-31</td>\n",
       "      <td>TD-20995</td>\n",
       "      <td>7.120</td>\n",
       "    </tr>\n",
       "    <tr>\n",
       "      <th>51289</th>\n",
       "      <td>CA-2014-156720</td>\n",
       "      <td>2014-12-31</td>\n",
       "      <td>JM-15580</td>\n",
       "      <td>3.024</td>\n",
       "    </tr>\n",
       "  </tbody>\n",
       "</table>\n",
       "</div>"
      ],
      "text/plain": [
       "             Order ID Order Date Customer ID   Sales\n",
       "51285  CA-2014-115427 2014-12-31    EB-13975  13.904\n",
       "51286    MO-2014-2560 2014-12-31     LP-7095   3.990\n",
       "51287  MX-2014-110527 2014-12-31    CM-12190  26.400\n",
       "51288  MX-2014-114783 2014-12-31    TD-20995   7.120\n",
       "51289  CA-2014-156720 2014-12-31    JM-15580   3.024"
      ]
     },
     "execution_count": 6,
     "metadata": {},
     "output_type": "execute_result"
    }
   ],
   "source": [
    "# sorting order date\n",
    "df['Order Date'] = df['Order Date'].sort_values()\n",
    "df.tail()"
   ]
  },
  {
   "cell_type": "code",
   "execution_count": 7,
   "id": "3d288e74",
   "metadata": {},
   "outputs": [],
   "source": [
    "# Creating a snap shot date\n",
    "current_date = pd.to_datetime('2015-01-01')\n"
   ]
  },
  {
   "cell_type": "markdown",
   "id": "fcad456d",
   "metadata": {},
   "source": [
    "#### Creating numeric values for model"
   ]
  },
  {
   "cell_type": "code",
   "execution_count": 8,
   "id": "5ccf763c",
   "metadata": {
    "scrolled": false
   },
   "outputs": [
    {
     "data": {
      "text/html": [
       "<div>\n",
       "<style scoped>\n",
       "    .dataframe tbody tr th:only-of-type {\n",
       "        vertical-align: middle;\n",
       "    }\n",
       "\n",
       "    .dataframe tbody tr th {\n",
       "        vertical-align: top;\n",
       "    }\n",
       "\n",
       "    .dataframe thead th {\n",
       "        text-align: right;\n",
       "    }\n",
       "</style>\n",
       "<table border=\"1\" class=\"dataframe\">\n",
       "  <thead>\n",
       "    <tr style=\"text-align: right;\">\n",
       "      <th></th>\n",
       "      <th>Order ID</th>\n",
       "      <th>Sales</th>\n",
       "      <th>Order Date</th>\n",
       "    </tr>\n",
       "    <tr>\n",
       "      <th>Customer ID</th>\n",
       "      <th></th>\n",
       "      <th></th>\n",
       "      <th></th>\n",
       "    </tr>\n",
       "  </thead>\n",
       "  <tbody>\n",
       "    <tr>\n",
       "      <th>AA-10315</th>\n",
       "      <td>19</td>\n",
       "      <td>13747.41</td>\n",
       "      <td>9</td>\n",
       "    </tr>\n",
       "    <tr>\n",
       "      <th>AA-10375</th>\n",
       "      <td>23</td>\n",
       "      <td>5884.20</td>\n",
       "      <td>7</td>\n",
       "    </tr>\n",
       "    <tr>\n",
       "      <th>AA-10480</th>\n",
       "      <td>20</td>\n",
       "      <td>17695.59</td>\n",
       "      <td>118</td>\n",
       "    </tr>\n",
       "    <tr>\n",
       "      <th>AA-10645</th>\n",
       "      <td>36</td>\n",
       "      <td>15343.89</td>\n",
       "      <td>27</td>\n",
       "    </tr>\n",
       "    <tr>\n",
       "      <th>AA-315</th>\n",
       "      <td>7</td>\n",
       "      <td>2243.26</td>\n",
       "      <td>3</td>\n",
       "    </tr>\n",
       "    <tr>\n",
       "      <th>...</th>\n",
       "      <td>...</td>\n",
       "      <td>...</td>\n",
       "      <td>...</td>\n",
       "    </tr>\n",
       "    <tr>\n",
       "      <th>YS-21880</th>\n",
       "      <td>26</td>\n",
       "      <td>18703.61</td>\n",
       "      <td>10</td>\n",
       "    </tr>\n",
       "    <tr>\n",
       "      <th>ZC-11910</th>\n",
       "      <td>1</td>\n",
       "      <td>7.17</td>\n",
       "      <td>201</td>\n",
       "    </tr>\n",
       "    <tr>\n",
       "      <th>ZC-21910</th>\n",
       "      <td>37</td>\n",
       "      <td>28472.82</td>\n",
       "      <td>4</td>\n",
       "    </tr>\n",
       "    <tr>\n",
       "      <th>ZD-11925</th>\n",
       "      <td>9</td>\n",
       "      <td>2951.23</td>\n",
       "      <td>4</td>\n",
       "    </tr>\n",
       "    <tr>\n",
       "      <th>ZD-21925</th>\n",
       "      <td>20</td>\n",
       "      <td>9479.34</td>\n",
       "      <td>2</td>\n",
       "    </tr>\n",
       "  </tbody>\n",
       "</table>\n",
       "<p>1590 rows × 3 columns</p>\n",
       "</div>"
      ],
      "text/plain": [
       "             Order ID     Sales  Order Date\n",
       "Customer ID                                \n",
       "AA-10315           19  13747.41           9\n",
       "AA-10375           23   5884.20           7\n",
       "AA-10480           20  17695.59         118\n",
       "AA-10645           36  15343.89          27\n",
       "AA-315              7   2243.26           3\n",
       "...               ...       ...         ...\n",
       "YS-21880           26  18703.61          10\n",
       "ZC-11910            1      7.17         201\n",
       "ZC-21910           37  28472.82           4\n",
       "ZD-11925            9   2951.23           4\n",
       "ZD-21925           20   9479.34           2\n",
       "\n",
       "[1590 rows x 3 columns]"
      ]
     },
     "execution_count": 8,
     "metadata": {},
     "output_type": "execute_result"
    }
   ],
   "source": [
    "# finding number of order per customer\n",
    "pf = df.groupby('Customer ID').agg({'Order ID':'nunique','Sales':'sum',\n",
    "                                    'Order Date':lambda x:(current_date - x.max()).days}).round(2)\n",
    "pf"
   ]
  },
  {
   "cell_type": "markdown",
   "id": "63e02bbb",
   "metadata": {},
   "source": [
    "**NB:**\n",
    "\n",
    "**Sales - Monetary**\n",
    "\n",
    "**Order Date - Recency**\n",
    "\n",
    "**Order ID - Frequency** "
   ]
  },
  {
   "cell_type": "markdown",
   "id": "3d422f57",
   "metadata": {},
   "source": [
    "#### Renaming Columns"
   ]
  },
  {
   "cell_type": "code",
   "execution_count": 9,
   "id": "b6260491",
   "metadata": {
    "scrolled": true
   },
   "outputs": [
    {
     "data": {
      "text/html": [
       "<div>\n",
       "<style scoped>\n",
       "    .dataframe tbody tr th:only-of-type {\n",
       "        vertical-align: middle;\n",
       "    }\n",
       "\n",
       "    .dataframe tbody tr th {\n",
       "        vertical-align: top;\n",
       "    }\n",
       "\n",
       "    .dataframe thead th {\n",
       "        text-align: right;\n",
       "    }\n",
       "</style>\n",
       "<table border=\"1\" class=\"dataframe\">\n",
       "  <thead>\n",
       "    <tr style=\"text-align: right;\">\n",
       "      <th></th>\n",
       "      <th>Frequency</th>\n",
       "      <th>Monetary</th>\n",
       "      <th>Recency</th>\n",
       "    </tr>\n",
       "    <tr>\n",
       "      <th>Customer ID</th>\n",
       "      <th></th>\n",
       "      <th></th>\n",
       "      <th></th>\n",
       "    </tr>\n",
       "  </thead>\n",
       "  <tbody>\n",
       "    <tr>\n",
       "      <th>AA-10315</th>\n",
       "      <td>19</td>\n",
       "      <td>13747.41</td>\n",
       "      <td>9</td>\n",
       "    </tr>\n",
       "    <tr>\n",
       "      <th>AA-10375</th>\n",
       "      <td>23</td>\n",
       "      <td>5884.20</td>\n",
       "      <td>7</td>\n",
       "    </tr>\n",
       "    <tr>\n",
       "      <th>AA-10480</th>\n",
       "      <td>20</td>\n",
       "      <td>17695.59</td>\n",
       "      <td>118</td>\n",
       "    </tr>\n",
       "    <tr>\n",
       "      <th>AA-10645</th>\n",
       "      <td>36</td>\n",
       "      <td>15343.89</td>\n",
       "      <td>27</td>\n",
       "    </tr>\n",
       "    <tr>\n",
       "      <th>AA-315</th>\n",
       "      <td>7</td>\n",
       "      <td>2243.26</td>\n",
       "      <td>3</td>\n",
       "    </tr>\n",
       "    <tr>\n",
       "      <th>...</th>\n",
       "      <td>...</td>\n",
       "      <td>...</td>\n",
       "      <td>...</td>\n",
       "    </tr>\n",
       "    <tr>\n",
       "      <th>YS-21880</th>\n",
       "      <td>26</td>\n",
       "      <td>18703.61</td>\n",
       "      <td>10</td>\n",
       "    </tr>\n",
       "    <tr>\n",
       "      <th>ZC-11910</th>\n",
       "      <td>1</td>\n",
       "      <td>7.17</td>\n",
       "      <td>201</td>\n",
       "    </tr>\n",
       "    <tr>\n",
       "      <th>ZC-21910</th>\n",
       "      <td>37</td>\n",
       "      <td>28472.82</td>\n",
       "      <td>4</td>\n",
       "    </tr>\n",
       "    <tr>\n",
       "      <th>ZD-11925</th>\n",
       "      <td>9</td>\n",
       "      <td>2951.23</td>\n",
       "      <td>4</td>\n",
       "    </tr>\n",
       "    <tr>\n",
       "      <th>ZD-21925</th>\n",
       "      <td>20</td>\n",
       "      <td>9479.34</td>\n",
       "      <td>2</td>\n",
       "    </tr>\n",
       "  </tbody>\n",
       "</table>\n",
       "<p>1590 rows × 3 columns</p>\n",
       "</div>"
      ],
      "text/plain": [
       "             Frequency  Monetary  Recency\n",
       "Customer ID                              \n",
       "AA-10315            19  13747.41        9\n",
       "AA-10375            23   5884.20        7\n",
       "AA-10480            20  17695.59      118\n",
       "AA-10645            36  15343.89       27\n",
       "AA-315               7   2243.26        3\n",
       "...                ...       ...      ...\n",
       "YS-21880            26  18703.61       10\n",
       "ZC-11910             1      7.17      201\n",
       "ZC-21910            37  28472.82        4\n",
       "ZD-11925             9   2951.23        4\n",
       "ZD-21925            20   9479.34        2\n",
       "\n",
       "[1590 rows x 3 columns]"
      ]
     },
     "execution_count": 9,
     "metadata": {},
     "output_type": "execute_result"
    }
   ],
   "source": [
    "pf.rename({'Sales': 'Monetary','Order Date': 'Recency','Order ID':'Frequency'},axis =1,inplace = True)\n",
    "pf"
   ]
  },
  {
   "cell_type": "markdown",
   "id": "280b394b",
   "metadata": {},
   "source": [
    "#### Checking for missing values"
   ]
  },
  {
   "cell_type": "code",
   "execution_count": 10,
   "id": "f8ceb3e6",
   "metadata": {
    "scrolled": false
   },
   "outputs": [
    {
     "data": {
      "text/plain": [
       "Frequency    0\n",
       "Monetary     0\n",
       "Recency      0\n",
       "dtype: int64"
      ]
     },
     "execution_count": 10,
     "metadata": {},
     "output_type": "execute_result"
    }
   ],
   "source": [
    "pf.isnull().sum()"
   ]
  },
  {
   "cell_type": "markdown",
   "id": "95a1ac89",
   "metadata": {},
   "source": [
    "#### Statistical summary of columns"
   ]
  },
  {
   "cell_type": "code",
   "execution_count": 11,
   "id": "4ca7d925",
   "metadata": {
    "scrolled": false
   },
   "outputs": [
    {
     "data": {
      "text/html": [
       "<div>\n",
       "<style scoped>\n",
       "    .dataframe tbody tr th:only-of-type {\n",
       "        vertical-align: middle;\n",
       "    }\n",
       "\n",
       "    .dataframe tbody tr th {\n",
       "        vertical-align: top;\n",
       "    }\n",
       "\n",
       "    .dataframe thead th {\n",
       "        text-align: right;\n",
       "    }\n",
       "</style>\n",
       "<table border=\"1\" class=\"dataframe\">\n",
       "  <thead>\n",
       "    <tr style=\"text-align: right;\">\n",
       "      <th></th>\n",
       "      <th>Frequency</th>\n",
       "      <th>Monetary</th>\n",
       "      <th>Recency</th>\n",
       "    </tr>\n",
       "  </thead>\n",
       "  <tbody>\n",
       "    <tr>\n",
       "      <th>count</th>\n",
       "      <td>1590.000000</td>\n",
       "      <td>1590.000000</td>\n",
       "      <td>1590.000000</td>\n",
       "    </tr>\n",
       "    <tr>\n",
       "      <th>mean</th>\n",
       "      <td>16.196855</td>\n",
       "      <td>7951.259082</td>\n",
       "      <td>88.616981</td>\n",
       "    </tr>\n",
       "    <tr>\n",
       "      <th>std</th>\n",
       "      <td>10.619199</td>\n",
       "      <td>6936.570145</td>\n",
       "      <td>127.879879</td>\n",
       "    </tr>\n",
       "    <tr>\n",
       "      <th>min</th>\n",
       "      <td>1.000000</td>\n",
       "      <td>7.170000</td>\n",
       "      <td>1.000000</td>\n",
       "    </tr>\n",
       "    <tr>\n",
       "      <th>25%</th>\n",
       "      <td>6.000000</td>\n",
       "      <td>1674.810000</td>\n",
       "      <td>15.000000</td>\n",
       "    </tr>\n",
       "    <tr>\n",
       "      <th>50%</th>\n",
       "      <td>14.000000</td>\n",
       "      <td>6248.135000</td>\n",
       "      <td>41.000000</td>\n",
       "    </tr>\n",
       "    <tr>\n",
       "      <th>75%</th>\n",
       "      <td>26.000000</td>\n",
       "      <td>13133.100000</td>\n",
       "      <td>104.000000</td>\n",
       "    </tr>\n",
       "    <tr>\n",
       "      <th>max</th>\n",
       "      <td>41.000000</td>\n",
       "      <td>35668.120000</td>\n",
       "      <td>1119.000000</td>\n",
       "    </tr>\n",
       "  </tbody>\n",
       "</table>\n",
       "</div>"
      ],
      "text/plain": [
       "         Frequency      Monetary      Recency\n",
       "count  1590.000000   1590.000000  1590.000000\n",
       "mean     16.196855   7951.259082    88.616981\n",
       "std      10.619199   6936.570145   127.879879\n",
       "min       1.000000      7.170000     1.000000\n",
       "25%       6.000000   1674.810000    15.000000\n",
       "50%      14.000000   6248.135000    41.000000\n",
       "75%      26.000000  13133.100000   104.000000\n",
       "max      41.000000  35668.120000  1119.000000"
      ]
     },
     "execution_count": 11,
     "metadata": {},
     "output_type": "execute_result"
    }
   ],
   "source": [
    "pf.describe()"
   ]
  },
  {
   "cell_type": "markdown",
   "id": "04375ac6",
   "metadata": {},
   "source": [
    "#### checking skewness of data"
   ]
  },
  {
   "cell_type": "code",
   "execution_count": 12,
   "id": "5b9dacbd",
   "metadata": {
    "scrolled": true
   },
   "outputs": [
    {
     "data": {
      "text/plain": [
       "Text(0.5, 1.0, 'Recency Skewness')"
      ]
     },
     "execution_count": 12,
     "metadata": {},
     "output_type": "execute_result"
    },
    {
     "data": {
      "image/png": "[encoded data removed]",
      "text/plain": [
       "<Figure size 432x288 with 1 Axes>"
      ]
     },
     "metadata": {},
     "output_type": "display_data"
    }
   ],
   "source": [
    "sns.kdeplot(data=pf, x='Recency');\n",
    "plt.title('Recency Skewness',fontsize= 15)"
   ]
  },
  {
   "cell_type": "code",
   "execution_count": 13,
   "id": "4f860d17",
   "metadata": {
    "scrolled": true
   },
   "outputs": [
    {
     "data": {
      "text/plain": [
       "Text(0.5, 1.0, 'Frequency Skweness')"
      ]
     },
     "execution_count": 13,
     "metadata": {},
     "output_type": "execute_result"
    },
    {
     "data": {
      "image/png": "[encoded data removed]",
      "text/plain": [
       "<Figure size 432x288 with 1 Axes>"
      ]
     },
     "metadata": {},
     "output_type": "display_data"
    }
   ],
   "source": [
    "sns.kdeplot(data=pf, x='Frequency')\n",
    "plt.title('Frequency Skweness',fontsize= 15)\n",
    "\n",
    "# Binomial distribution"
   ]
  },
  {
   "cell_type": "code",
   "execution_count": 14,
   "id": "df714395",
   "metadata": {},
   "outputs": [
    {
     "data": {
      "text/plain": [
       "Text(0.5, 1.0, 'Monetary Skewness')"
      ]
     },
     "execution_count": 14,
     "metadata": {},
     "output_type": "execute_result"
    },
    {
     "data": {
      "image/png": "[encoded data removed]",
      "text/plain": [
       "<Figure size 432x288 with 1 Axes>"
      ]
     },
     "metadata": {},
     "output_type": "display_data"
    }
   ],
   "source": [
    "sns.kdeplot(data=pf, x='Monetary')\n",
    "plt.title('Monetary Skewness',fontsize= 15)\n",
    "# Binomial distribution"
   ]
  },
  {
   "cell_type": "markdown",
   "id": "fffa2b11",
   "metadata": {},
   "source": [
    "### Data preprocessing for modelling"
   ]
  },
  {
   "cell_type": "markdown",
   "id": "b2a93071",
   "metadata": {},
   "source": [
    "### Transforming Data"
   ]
  },
  {
   "cell_type": "markdown",
   "id": "9c802917",
   "metadata": {},
   "source": [
    "**Standardizing data using the StandardScaler from Sklearn library. This will be done by taking the feature and substracting the mean from the values and dividing by the features standard deviation. This allows the KMeans cluster algorithm work efficiently**"
   ]
  },
  {
   "cell_type": "code",
   "execution_count": 15,
   "id": "ade2143d",
   "metadata": {
    "scrolled": false
   },
   "outputs": [
    {
     "data": {
      "text/html": [
       "<div>\n",
       "<style scoped>\n",
       "    .dataframe tbody tr th:only-of-type {\n",
       "        vertical-align: middle;\n",
       "    }\n",
       "\n",
       "    .dataframe tbody tr th {\n",
       "        vertical-align: top;\n",
       "    }\n",
       "\n",
       "    .dataframe thead th {\n",
       "        text-align: right;\n",
       "    }\n",
       "</style>\n",
       "<table border=\"1\" class=\"dataframe\">\n",
       "  <thead>\n",
       "    <tr style=\"text-align: right;\">\n",
       "      <th></th>\n",
       "      <th>Frequency</th>\n",
       "      <th>Monetary</th>\n",
       "      <th>Recency</th>\n",
       "    </tr>\n",
       "    <tr>\n",
       "      <th>Customer ID</th>\n",
       "      <th></th>\n",
       "      <th></th>\n",
       "      <th></th>\n",
       "    </tr>\n",
       "  </thead>\n",
       "  <tbody>\n",
       "    <tr>\n",
       "      <th>AA-10315</th>\n",
       "      <td>4.358899</td>\n",
       "      <td>117.249350</td>\n",
       "      <td>3.000000</td>\n",
       "    </tr>\n",
       "    <tr>\n",
       "      <th>AA-10375</th>\n",
       "      <td>4.795832</td>\n",
       "      <td>76.708539</td>\n",
       "      <td>2.645751</td>\n",
       "    </tr>\n",
       "    <tr>\n",
       "      <th>AA-10480</th>\n",
       "      <td>4.472136</td>\n",
       "      <td>133.024772</td>\n",
       "      <td>10.862780</td>\n",
       "    </tr>\n",
       "    <tr>\n",
       "      <th>AA-10645</th>\n",
       "      <td>6.000000</td>\n",
       "      <td>123.870457</td>\n",
       "      <td>5.196152</td>\n",
       "    </tr>\n",
       "    <tr>\n",
       "      <th>AA-315</th>\n",
       "      <td>2.645751</td>\n",
       "      <td>47.363066</td>\n",
       "      <td>1.732051</td>\n",
       "    </tr>\n",
       "    <tr>\n",
       "      <th>...</th>\n",
       "      <td>...</td>\n",
       "      <td>...</td>\n",
       "      <td>...</td>\n",
       "    </tr>\n",
       "    <tr>\n",
       "      <th>YS-21880</th>\n",
       "      <td>5.099020</td>\n",
       "      <td>136.761142</td>\n",
       "      <td>3.162278</td>\n",
       "    </tr>\n",
       "    <tr>\n",
       "      <th>ZC-11910</th>\n",
       "      <td>1.000000</td>\n",
       "      <td>2.677686</td>\n",
       "      <td>14.177447</td>\n",
       "    </tr>\n",
       "    <tr>\n",
       "      <th>ZC-21910</th>\n",
       "      <td>6.082763</td>\n",
       "      <td>168.738911</td>\n",
       "      <td>2.000000</td>\n",
       "    </tr>\n",
       "    <tr>\n",
       "      <th>ZD-11925</th>\n",
       "      <td>3.000000</td>\n",
       "      <td>54.325224</td>\n",
       "      <td>2.000000</td>\n",
       "    </tr>\n",
       "    <tr>\n",
       "      <th>ZD-21925</th>\n",
       "      <td>4.472136</td>\n",
       "      <td>97.361902</td>\n",
       "      <td>1.414214</td>\n",
       "    </tr>\n",
       "  </tbody>\n",
       "</table>\n",
       "<p>1590 rows × 3 columns</p>\n",
       "</div>"
      ],
      "text/plain": [
       "             Frequency    Monetary    Recency\n",
       "Customer ID                                  \n",
       "AA-10315      4.358899  117.249350   3.000000\n",
       "AA-10375      4.795832   76.708539   2.645751\n",
       "AA-10480      4.472136  133.024772  10.862780\n",
       "AA-10645      6.000000  123.870457   5.196152\n",
       "AA-315        2.645751   47.363066   1.732051\n",
       "...                ...         ...        ...\n",
       "YS-21880      5.099020  136.761142   3.162278\n",
       "ZC-11910      1.000000    2.677686  14.177447\n",
       "ZC-21910      6.082763  168.738911   2.000000\n",
       "ZD-11925      3.000000   54.325224   2.000000\n",
       "ZD-21925      4.472136   97.361902   1.414214\n",
       "\n",
       "[1590 rows x 3 columns]"
      ]
     },
     "execution_count": 15,
     "metadata": {},
     "output_type": "execute_result"
    }
   ],
   "source": [
    "# transforming the data\n",
    "# log is used when data is skewed to the right\n",
    "# sqrt used when data is skewed to the left\n",
    "sf = np.sqrt(pf)\n",
    "sf"
   ]
  },
  {
   "cell_type": "code",
   "execution_count": 17,
   "id": "fd9cebb8",
   "metadata": {
    "scrolled": true
   },
   "outputs": [
    {
     "data": {
      "image/png": "[encoded data removed]",
      "text/plain": [
       "<Figure size 432x288 with 1 Axes>"
      ]
     },
     "metadata": {},
     "output_type": "display_data"
    }
   ],
   "source": [
    "plt.title('Recency Transformed',fontsize= 15)\n",
    "sns.kdeplot(data=sf, x='Recency');"
   ]
  },
  {
   "cell_type": "code",
   "execution_count": 18,
   "id": "71d69f54",
   "metadata": {},
   "outputs": [
    {
     "data": {
      "text/plain": [
       "Text(0.5, 1.0, 'Frequency Transformed')"
      ]
     },
     "execution_count": 18,
     "metadata": {},
     "output_type": "execute_result"
    },
    {
     "data": {
      "image/png": "[encoded data removed]",
      "text/plain": [
       "<Figure size 432x288 with 1 Axes>"
      ]
     },
     "metadata": {},
     "output_type": "display_data"
    }
   ],
   "source": [
    "sns.kdeplot(data=sf, x='Frequency');\n",
    "plt.title('Frequency Transformed',fontsize= 15)"
   ]
  },
  {
   "cell_type": "code",
   "execution_count": 19,
   "id": "1a558272",
   "metadata": {},
   "outputs": [
    {
     "data": {
      "text/plain": [
       "Text(0.5, 1.0, 'Monetary Transformed')"
      ]
     },
     "execution_count": 19,
     "metadata": {},
     "output_type": "execute_result"
    },
    {
     "data": {
      "image/png": "[encoded data removed]",
      "text/plain": [
       "<Figure size 432x288 with 1 Axes>"
      ]
     },
     "metadata": {},
     "output_type": "display_data"
    }
   ],
   "source": [
    "sns.kdeplot(data=sf, x='Monetary');\n",
    "plt.title('Monetary Transformed',fontsize= 15)"
   ]
  },
  {
   "cell_type": "markdown",
   "id": "04cdf6bf",
   "metadata": {},
   "source": [
    "#### Scaling data to fit into model"
   ]
  },
  {
   "cell_type": "code",
   "execution_count": 20,
   "id": "7f0ea5aa",
   "metadata": {},
   "outputs": [],
   "source": [
    "# Scaling the data\n",
    "scaler =StandardScaler()"
   ]
  },
  {
   "cell_type": "code",
   "execution_count": 21,
   "id": "f3387c47",
   "metadata": {
    "scrolled": true
   },
   "outputs": [
    {
     "data": {
      "text/plain": [
       "array([[ 0.41832531,  0.92522539, -0.88748128],\n",
       "       [ 0.7300995 , -0.055883  , -0.95371493],\n",
       "       [ 0.49912583,  1.30699869,  0.58261774],\n",
       "       ...,\n",
       "       [ 1.64839192,  2.17129915, -1.07445064],\n",
       "       [-0.55131998, -0.5975707 , -1.07445064],\n",
       "       [ 0.49912583,  0.44393896, -1.18397475]])"
      ]
     },
     "execution_count": 21,
     "metadata": {},
     "output_type": "execute_result"
    }
   ],
   "source": [
    "# fitting StandardScaler to data\n",
    "scaled_df= scaler.fit_transform(sf)\n",
    "scaled_df"
   ]
  },
  {
   "cell_type": "code",
   "execution_count": 22,
   "id": "cf6b8984",
   "metadata": {},
   "outputs": [],
   "source": [
    "# empty list for clustering\n",
    "wc=[]"
   ]
  },
  {
   "cell_type": "code",
   "execution_count": 23,
   "id": "c95dca62",
   "metadata": {},
   "outputs": [
    {
     "name": "stderr",
     "output_type": "stream",
     "text": [
      "C:\\Users\\hp\\anaconda3\\lib\\site-packages\\sklearn\\cluster\\_kmeans.py:881: UserWarning: KMeans is known to have a memory leak on Windows with MKL, when there are less chunks than available threads. You can avoid it by setting the environment variable OMP_NUM_THREADS=7.\n",
      "  warnings.warn(\n"
     ]
    }
   ],
   "source": [
    "# empty list for clustering\n",
    "wc=[]\n",
    "\n",
    "# initiating clusters\n",
    "for i in range (1,11):\n",
    "    kmeans = KMeans(n_clusters =i,random_state = 0)\n",
    "    kmeans.fit(scaled_df)\n",
    "    wc.append(kmeans.inertia_)\n"
   ]
  },
  {
   "cell_type": "markdown",
   "id": "78b4fa65",
   "metadata": {},
   "source": [
    "### Elbow Plot\n",
    "This is used to determine suitable number of clusters"
   ]
  },
  {
   "cell_type": "code",
   "execution_count": 24,
   "id": "9263eea6",
   "metadata": {
    "scrolled": true
   },
   "outputs": [
    {
     "data": {
      "image/png": "[encoded data removed]",
      "text/plain": [
       "<Figure size 432x288 with 1 Axes>"
      ]
     },
     "metadata": {},
     "output_type": "display_data"
    }
   ],
   "source": [
    "plt.plot(range(1,11),wc,marker = '*')\n",
    "plt.title(\"Elbow Plot\")\n",
    "plt.xlabel('Clusters')\n",
    "# plt.ylabel('')\n",
    "plt.show()"
   ]
  },
  {
   "cell_type": "markdown",
   "id": "3761d914",
   "metadata": {},
   "source": [
    "### Training model "
   ]
  },
  {
   "cell_type": "code",
   "execution_count": 25,
   "id": "0fda3108",
   "metadata": {},
   "outputs": [],
   "source": [
    "# number of cluster to be used 3\n",
    "kmeans = KMeans(n_clusters =3,random_state = 0)"
   ]
  },
  {
   "cell_type": "code",
   "execution_count": 26,
   "id": "e532f4f4",
   "metadata": {},
   "outputs": [
    {
     "data": {
      "text/plain": [
       "KMeans(n_clusters=3, random_state=0)"
      ]
     },
     "execution_count": 26,
     "metadata": {},
     "output_type": "execute_result"
    }
   ],
   "source": [
    "kmeans.fit(scaled_df)"
   ]
  },
  {
   "cell_type": "code",
   "execution_count": 27,
   "id": "22c24bda",
   "metadata": {},
   "outputs": [
    {
     "data": {
      "text/plain": [
       "array([1, 1, 1, ..., 1, 0, 1])"
      ]
     },
     "execution_count": 27,
     "metadata": {},
     "output_type": "execute_result"
    }
   ],
   "source": [
    "clusters = kmeans.labels_\n",
    "clusters"
   ]
  },
  {
   "cell_type": "code",
   "execution_count": 28,
   "id": "ef3e4d81",
   "metadata": {},
   "outputs": [],
   "source": [
    "pf['Clusters'] = clusters"
   ]
  },
  {
   "cell_type": "markdown",
   "id": "2b10d04e",
   "metadata": {},
   "source": [
    "#### Clustered dataset"
   ]
  },
  {
   "cell_type": "code",
   "execution_count": 29,
   "id": "a61794dd",
   "metadata": {
    "scrolled": true
   },
   "outputs": [
    {
     "data": {
      "text/html": [
       "<div>\n",
       "<style scoped>\n",
       "    .dataframe tbody tr th:only-of-type {\n",
       "        vertical-align: middle;\n",
       "    }\n",
       "\n",
       "    .dataframe tbody tr th {\n",
       "        vertical-align: top;\n",
       "    }\n",
       "\n",
       "    .dataframe thead th {\n",
       "        text-align: right;\n",
       "    }\n",
       "</style>\n",
       "<table border=\"1\" class=\"dataframe\">\n",
       "  <thead>\n",
       "    <tr style=\"text-align: right;\">\n",
       "      <th></th>\n",
       "      <th>Frequency</th>\n",
       "      <th>Monetary</th>\n",
       "      <th>Recency</th>\n",
       "      <th>Clusters</th>\n",
       "    </tr>\n",
       "    <tr>\n",
       "      <th>Customer ID</th>\n",
       "      <th></th>\n",
       "      <th></th>\n",
       "      <th></th>\n",
       "      <th></th>\n",
       "    </tr>\n",
       "  </thead>\n",
       "  <tbody>\n",
       "    <tr>\n",
       "      <th>AA-10315</th>\n",
       "      <td>19</td>\n",
       "      <td>13747.41</td>\n",
       "      <td>9</td>\n",
       "      <td>1</td>\n",
       "    </tr>\n",
       "    <tr>\n",
       "      <th>AA-10375</th>\n",
       "      <td>23</td>\n",
       "      <td>5884.20</td>\n",
       "      <td>7</td>\n",
       "      <td>1</td>\n",
       "    </tr>\n",
       "    <tr>\n",
       "      <th>AA-10480</th>\n",
       "      <td>20</td>\n",
       "      <td>17695.59</td>\n",
       "      <td>118</td>\n",
       "      <td>1</td>\n",
       "    </tr>\n",
       "    <tr>\n",
       "      <th>AA-10645</th>\n",
       "      <td>36</td>\n",
       "      <td>15343.89</td>\n",
       "      <td>27</td>\n",
       "      <td>1</td>\n",
       "    </tr>\n",
       "    <tr>\n",
       "      <th>AA-315</th>\n",
       "      <td>7</td>\n",
       "      <td>2243.26</td>\n",
       "      <td>3</td>\n",
       "      <td>0</td>\n",
       "    </tr>\n",
       "    <tr>\n",
       "      <th>...</th>\n",
       "      <td>...</td>\n",
       "      <td>...</td>\n",
       "      <td>...</td>\n",
       "      <td>...</td>\n",
       "    </tr>\n",
       "    <tr>\n",
       "      <th>YS-21880</th>\n",
       "      <td>26</td>\n",
       "      <td>18703.61</td>\n",
       "      <td>10</td>\n",
       "      <td>1</td>\n",
       "    </tr>\n",
       "    <tr>\n",
       "      <th>ZC-11910</th>\n",
       "      <td>1</td>\n",
       "      <td>7.17</td>\n",
       "      <td>201</td>\n",
       "      <td>2</td>\n",
       "    </tr>\n",
       "    <tr>\n",
       "      <th>ZC-21910</th>\n",
       "      <td>37</td>\n",
       "      <td>28472.82</td>\n",
       "      <td>4</td>\n",
       "      <td>1</td>\n",
       "    </tr>\n",
       "    <tr>\n",
       "      <th>ZD-11925</th>\n",
       "      <td>9</td>\n",
       "      <td>2951.23</td>\n",
       "      <td>4</td>\n",
       "      <td>0</td>\n",
       "    </tr>\n",
       "    <tr>\n",
       "      <th>ZD-21925</th>\n",
       "      <td>20</td>\n",
       "      <td>9479.34</td>\n",
       "      <td>2</td>\n",
       "      <td>1</td>\n",
       "    </tr>\n",
       "  </tbody>\n",
       "</table>\n",
       "<p>1590 rows × 4 columns</p>\n",
       "</div>"
      ],
      "text/plain": [
       "             Frequency  Monetary  Recency  Clusters\n",
       "Customer ID                                        \n",
       "AA-10315            19  13747.41        9         1\n",
       "AA-10375            23   5884.20        7         1\n",
       "AA-10480            20  17695.59      118         1\n",
       "AA-10645            36  15343.89       27         1\n",
       "AA-315               7   2243.26        3         0\n",
       "...                ...       ...      ...       ...\n",
       "YS-21880            26  18703.61       10         1\n",
       "ZC-11910             1      7.17      201         2\n",
       "ZC-21910            37  28472.82        4         1\n",
       "ZD-11925             9   2951.23        4         0\n",
       "ZD-21925            20   9479.34        2         1\n",
       "\n",
       "[1590 rows x 4 columns]"
      ]
     },
     "execution_count": 29,
     "metadata": {},
     "output_type": "execute_result"
    }
   ],
   "source": [
    "pf"
   ]
  },
  {
   "cell_type": "markdown",
   "id": "0b974a52",
   "metadata": {},
   "source": [
    "### Analysing Clusters"
   ]
  },
  {
   "cell_type": "code",
   "execution_count": 30,
   "id": "a6692800",
   "metadata": {
    "scrolled": false
   },
   "outputs": [
    {
     "data": {
      "image/png": "[encoded data removed]",
      "text/plain": [
       "<Figure size 576x432 with 1 Axes>"
      ]
     },
     "metadata": {},
     "output_type": "display_data"
    }
   ],
   "source": [
    "# analysing recency and frequency\n",
    "\n",
    "fig,ax= plt.subplots(figsize=(8,6))\n",
    "\n",
    "sns.scatterplot(data = pf, x = 'Recency', y = 'Monetary', hue = 'Clusters',\n",
    "                palette = 'tab10')\n",
    "ax.set_title('Cluster Of Customers',fontsize= 15)\n",
    "\n",
    "plt.show()\n"
   ]
  },
  {
   "cell_type": "markdown",
   "id": "25d126e3",
   "metadata": {},
   "source": [
    "### Grouping and aggregating clusters"
   ]
  },
  {
   "cell_type": "code",
   "execution_count": 31,
   "id": "3cdc6bcf",
   "metadata": {
    "scrolled": true
   },
   "outputs": [
    {
     "data": {
      "text/html": [
       "<div>\n",
       "<style scoped>\n",
       "    .dataframe tbody tr th:only-of-type {\n",
       "        vertical-align: middle;\n",
       "    }\n",
       "\n",
       "    .dataframe tbody tr th {\n",
       "        vertical-align: top;\n",
       "    }\n",
       "\n",
       "    .dataframe thead tr th {\n",
       "        text-align: left;\n",
       "    }\n",
       "\n",
       "    .dataframe thead tr:last-of-type th {\n",
       "        text-align: right;\n",
       "    }\n",
       "</style>\n",
       "<table border=\"1\" class=\"dataframe\">\n",
       "  <thead>\n",
       "    <tr>\n",
       "      <th></th>\n",
       "      <th>Recency</th>\n",
       "      <th>Frequency</th>\n",
       "      <th colspan=\"2\" halign=\"left\">Monetary</th>\n",
       "    </tr>\n",
       "    <tr>\n",
       "      <th></th>\n",
       "      <th>mean</th>\n",
       "      <th>mean</th>\n",
       "      <th>mean</th>\n",
       "      <th>count</th>\n",
       "    </tr>\n",
       "    <tr>\n",
       "      <th>Clusters</th>\n",
       "      <th></th>\n",
       "      <th></th>\n",
       "      <th></th>\n",
       "      <th></th>\n",
       "    </tr>\n",
       "  </thead>\n",
       "  <tbody>\n",
       "    <tr>\n",
       "      <th>0</th>\n",
       "      <td>57.0</td>\n",
       "      <td>7.0</td>\n",
       "      <td>2300.0</td>\n",
       "      <td>530</td>\n",
       "    </tr>\n",
       "    <tr>\n",
       "      <th>1</th>\n",
       "      <td>32.0</td>\n",
       "      <td>26.0</td>\n",
       "      <td>13925.0</td>\n",
       "      <td>786</td>\n",
       "    </tr>\n",
       "    <tr>\n",
       "      <th>2</th>\n",
       "      <td>312.0</td>\n",
       "      <td>5.0</td>\n",
       "      <td>1747.0</td>\n",
       "      <td>274</td>\n",
       "    </tr>\n",
       "  </tbody>\n",
       "</table>\n",
       "</div>"
      ],
      "text/plain": [
       "         Recency Frequency Monetary      \n",
       "            mean      mean     mean count\n",
       "Clusters                                 \n",
       "0           57.0       7.0   2300.0   530\n",
       "1           32.0      26.0  13925.0   786\n",
       "2          312.0       5.0   1747.0   274"
      ]
     },
     "execution_count": 31,
     "metadata": {},
     "output_type": "execute_result"
    }
   ],
   "source": [
    "# aggregating clusters by mean and count\n",
    "sd = pf.groupby('Clusters').agg({'Recency':'mean','Frequency':'mean','Monetary':['mean','count']}).round(0)\n",
    "sd"
   ]
  },
  {
   "cell_type": "markdown",
   "id": "bfa2ed7d",
   "metadata": {},
   "source": [
    "### Statistical summary of each cluster"
   ]
  },
  {
   "cell_type": "code",
   "execution_count": 32,
   "id": "0f354ed7",
   "metadata": {
    "scrolled": false
   },
   "outputs": [
    {
     "data": {
      "text/html": [
       "<div>\n",
       "<style scoped>\n",
       "    .dataframe tbody tr th:only-of-type {\n",
       "        vertical-align: middle;\n",
       "    }\n",
       "\n",
       "    .dataframe tbody tr th {\n",
       "        vertical-align: top;\n",
       "    }\n",
       "\n",
       "    .dataframe thead th {\n",
       "        text-align: right;\n",
       "    }\n",
       "</style>\n",
       "<table border=\"1\" class=\"dataframe\">\n",
       "  <thead>\n",
       "    <tr style=\"text-align: right;\">\n",
       "      <th></th>\n",
       "      <th>Frequency</th>\n",
       "      <th>Monetary</th>\n",
       "      <th>Recency</th>\n",
       "      <th>Clusters</th>\n",
       "      <th>Segments</th>\n",
       "    </tr>\n",
       "    <tr>\n",
       "      <th>Customer ID</th>\n",
       "      <th></th>\n",
       "      <th></th>\n",
       "      <th></th>\n",
       "      <th></th>\n",
       "      <th></th>\n",
       "    </tr>\n",
       "  </thead>\n",
       "  <tbody>\n",
       "    <tr>\n",
       "      <th>AA-10315</th>\n",
       "      <td>19</td>\n",
       "      <td>13747.41</td>\n",
       "      <td>9</td>\n",
       "      <td>1</td>\n",
       "      <td>High</td>\n",
       "    </tr>\n",
       "    <tr>\n",
       "      <th>AA-10375</th>\n",
       "      <td>23</td>\n",
       "      <td>5884.20</td>\n",
       "      <td>7</td>\n",
       "      <td>1</td>\n",
       "      <td>High</td>\n",
       "    </tr>\n",
       "    <tr>\n",
       "      <th>AA-10480</th>\n",
       "      <td>20</td>\n",
       "      <td>17695.59</td>\n",
       "      <td>118</td>\n",
       "      <td>1</td>\n",
       "      <td>High</td>\n",
       "    </tr>\n",
       "    <tr>\n",
       "      <th>AA-10645</th>\n",
       "      <td>36</td>\n",
       "      <td>15343.89</td>\n",
       "      <td>27</td>\n",
       "      <td>1</td>\n",
       "      <td>High</td>\n",
       "    </tr>\n",
       "    <tr>\n",
       "      <th>AA-315</th>\n",
       "      <td>7</td>\n",
       "      <td>2243.26</td>\n",
       "      <td>3</td>\n",
       "      <td>0</td>\n",
       "      <td>Medium</td>\n",
       "    </tr>\n",
       "    <tr>\n",
       "      <th>...</th>\n",
       "      <td>...</td>\n",
       "      <td>...</td>\n",
       "      <td>...</td>\n",
       "      <td>...</td>\n",
       "      <td>...</td>\n",
       "    </tr>\n",
       "    <tr>\n",
       "      <th>YS-21880</th>\n",
       "      <td>26</td>\n",
       "      <td>18703.61</td>\n",
       "      <td>10</td>\n",
       "      <td>1</td>\n",
       "      <td>High</td>\n",
       "    </tr>\n",
       "    <tr>\n",
       "      <th>ZC-11910</th>\n",
       "      <td>1</td>\n",
       "      <td>7.17</td>\n",
       "      <td>201</td>\n",
       "      <td>2</td>\n",
       "      <td>Low</td>\n",
       "    </tr>\n",
       "    <tr>\n",
       "      <th>ZC-21910</th>\n",
       "      <td>37</td>\n",
       "      <td>28472.82</td>\n",
       "      <td>4</td>\n",
       "      <td>1</td>\n",
       "      <td>High</td>\n",
       "    </tr>\n",
       "    <tr>\n",
       "      <th>ZD-11925</th>\n",
       "      <td>9</td>\n",
       "      <td>2951.23</td>\n",
       "      <td>4</td>\n",
       "      <td>0</td>\n",
       "      <td>Medium</td>\n",
       "    </tr>\n",
       "    <tr>\n",
       "      <th>ZD-21925</th>\n",
       "      <td>20</td>\n",
       "      <td>9479.34</td>\n",
       "      <td>2</td>\n",
       "      <td>1</td>\n",
       "      <td>High</td>\n",
       "    </tr>\n",
       "  </tbody>\n",
       "</table>\n",
       "<p>1590 rows × 5 columns</p>\n",
       "</div>"
      ],
      "text/plain": [
       "             Frequency  Monetary  Recency  Clusters Segments\n",
       "Customer ID                                                 \n",
       "AA-10315            19  13747.41        9         1     High\n",
       "AA-10375            23   5884.20        7         1     High\n",
       "AA-10480            20  17695.59      118         1     High\n",
       "AA-10645            36  15343.89       27         1     High\n",
       "AA-315               7   2243.26        3         0   Medium\n",
       "...                ...       ...      ...       ...      ...\n",
       "YS-21880            26  18703.61       10         1     High\n",
       "ZC-11910             1      7.17      201         2      Low\n",
       "ZC-21910            37  28472.82        4         1     High\n",
       "ZD-11925             9   2951.23        4         0   Medium\n",
       "ZD-21925            20   9479.34        2         1     High\n",
       "\n",
       "[1590 rows x 5 columns]"
      ]
     },
     "execution_count": 32,
     "metadata": {},
     "output_type": "execute_result"
    }
   ],
   "source": [
    "# mapping clusters with names\n",
    "segments = {0:'Medium' ,1:'High' ,2:'Low'}\n",
    "pf['Segments'] = pf['Clusters'].map(segments)\n",
    "pf\n",
    " "
   ]
  },
  {
   "cell_type": "code",
   "execution_count": 33,
   "id": "620d0289",
   "metadata": {
    "scrolled": false
   },
   "outputs": [
    {
     "data": {
      "text/html": [
       "<div>\n",
       "<style scoped>\n",
       "    .dataframe tbody tr th:only-of-type {\n",
       "        vertical-align: middle;\n",
       "    }\n",
       "\n",
       "    .dataframe tbody tr th {\n",
       "        vertical-align: top;\n",
       "    }\n",
       "\n",
       "    .dataframe thead th {\n",
       "        text-align: right;\n",
       "    }\n",
       "</style>\n",
       "<table border=\"1\" class=\"dataframe\">\n",
       "  <thead>\n",
       "    <tr style=\"text-align: right;\">\n",
       "      <th></th>\n",
       "      <th>Frequency</th>\n",
       "      <th>Monetary</th>\n",
       "      <th>Recency</th>\n",
       "      <th>Clusters</th>\n",
       "    </tr>\n",
       "  </thead>\n",
       "  <tbody>\n",
       "    <tr>\n",
       "      <th>count</th>\n",
       "      <td>530.000000</td>\n",
       "      <td>530.000000</td>\n",
       "      <td>530.000000</td>\n",
       "      <td>530.0</td>\n",
       "    </tr>\n",
       "    <tr>\n",
       "      <th>mean</th>\n",
       "      <td>7.109434</td>\n",
       "      <td>2299.608094</td>\n",
       "      <td>56.681132</td>\n",
       "      <td>0.0</td>\n",
       "    </tr>\n",
       "    <tr>\n",
       "      <th>std</th>\n",
       "      <td>2.625904</td>\n",
       "      <td>1646.871340</td>\n",
       "      <td>41.711656</td>\n",
       "      <td>0.0</td>\n",
       "    </tr>\n",
       "    <tr>\n",
       "      <th>min</th>\n",
       "      <td>2.000000</td>\n",
       "      <td>110.480000</td>\n",
       "      <td>1.000000</td>\n",
       "      <td>0.0</td>\n",
       "    </tr>\n",
       "    <tr>\n",
       "      <th>25%</th>\n",
       "      <td>5.000000</td>\n",
       "      <td>1138.410000</td>\n",
       "      <td>20.000000</td>\n",
       "      <td>0.0</td>\n",
       "    </tr>\n",
       "    <tr>\n",
       "      <th>50%</th>\n",
       "      <td>7.000000</td>\n",
       "      <td>1884.000000</td>\n",
       "      <td>49.000000</td>\n",
       "      <td>0.0</td>\n",
       "    </tr>\n",
       "    <tr>\n",
       "      <th>75%</th>\n",
       "      <td>9.000000</td>\n",
       "      <td>3057.247500</td>\n",
       "      <td>93.750000</td>\n",
       "      <td>0.0</td>\n",
       "    </tr>\n",
       "    <tr>\n",
       "      <th>max</th>\n",
       "      <td>20.000000</td>\n",
       "      <td>9027.480000</td>\n",
       "      <td>146.000000</td>\n",
       "      <td>0.0</td>\n",
       "    </tr>\n",
       "  </tbody>\n",
       "</table>\n",
       "</div>"
      ],
      "text/plain": [
       "        Frequency     Monetary     Recency  Clusters\n",
       "count  530.000000   530.000000  530.000000     530.0\n",
       "mean     7.109434  2299.608094   56.681132       0.0\n",
       "std      2.625904  1646.871340   41.711656       0.0\n",
       "min      2.000000   110.480000    1.000000       0.0\n",
       "25%      5.000000  1138.410000   20.000000       0.0\n",
       "50%      7.000000  1884.000000   49.000000       0.0\n",
       "75%      9.000000  3057.247500   93.750000       0.0\n",
       "max     20.000000  9027.480000  146.000000       0.0"
      ]
     },
     "execution_count": 33,
     "metadata": {},
     "output_type": "execute_result"
    }
   ],
   "source": [
    "medium = pf.loc[pf['Clusters']== 0]\n",
    "medium.describe()"
   ]
  },
  {
   "cell_type": "code",
   "execution_count": 34,
   "id": "a3a1b6ec",
   "metadata": {
    "scrolled": false
   },
   "outputs": [
    {
     "data": {
      "text/html": [
       "<div>\n",
       "<style scoped>\n",
       "    .dataframe tbody tr th:only-of-type {\n",
       "        vertical-align: middle;\n",
       "    }\n",
       "\n",
       "    .dataframe tbody tr th {\n",
       "        vertical-align: top;\n",
       "    }\n",
       "\n",
       "    .dataframe thead th {\n",
       "        text-align: right;\n",
       "    }\n",
       "</style>\n",
       "<table border=\"1\" class=\"dataframe\">\n",
       "  <thead>\n",
       "    <tr style=\"text-align: right;\">\n",
       "      <th></th>\n",
       "      <th>Frequency</th>\n",
       "      <th>Monetary</th>\n",
       "      <th>Recency</th>\n",
       "      <th>Clusters</th>\n",
       "    </tr>\n",
       "  </thead>\n",
       "  <tbody>\n",
       "    <tr>\n",
       "      <th>count</th>\n",
       "      <td>786.000000</td>\n",
       "      <td>786.000000</td>\n",
       "      <td>786.000000</td>\n",
       "      <td>786.0</td>\n",
       "    </tr>\n",
       "    <tr>\n",
       "      <th>mean</th>\n",
       "      <td>26.173028</td>\n",
       "      <td>13924.904517</td>\n",
       "      <td>32.407125</td>\n",
       "      <td>1.0</td>\n",
       "    </tr>\n",
       "    <tr>\n",
       "      <th>std</th>\n",
       "      <td>4.866690</td>\n",
       "      <td>4896.395605</td>\n",
       "      <td>32.299430</td>\n",
       "      <td>0.0</td>\n",
       "    </tr>\n",
       "    <tr>\n",
       "      <th>min</th>\n",
       "      <td>15.000000</td>\n",
       "      <td>4629.700000</td>\n",
       "      <td>1.000000</td>\n",
       "      <td>1.0</td>\n",
       "    </tr>\n",
       "    <tr>\n",
       "      <th>25%</th>\n",
       "      <td>23.000000</td>\n",
       "      <td>10470.612500</td>\n",
       "      <td>9.000000</td>\n",
       "      <td>1.0</td>\n",
       "    </tr>\n",
       "    <tr>\n",
       "      <th>50%</th>\n",
       "      <td>26.000000</td>\n",
       "      <td>13201.355000</td>\n",
       "      <td>21.000000</td>\n",
       "      <td>1.0</td>\n",
       "    </tr>\n",
       "    <tr>\n",
       "      <th>75%</th>\n",
       "      <td>29.000000</td>\n",
       "      <td>16705.740000</td>\n",
       "      <td>44.750000</td>\n",
       "      <td>1.0</td>\n",
       "    </tr>\n",
       "    <tr>\n",
       "      <th>max</th>\n",
       "      <td>41.000000</td>\n",
       "      <td>35668.120000</td>\n",
       "      <td>241.000000</td>\n",
       "      <td>1.0</td>\n",
       "    </tr>\n",
       "  </tbody>\n",
       "</table>\n",
       "</div>"
      ],
      "text/plain": [
       "        Frequency      Monetary     Recency  Clusters\n",
       "count  786.000000    786.000000  786.000000     786.0\n",
       "mean    26.173028  13924.904517   32.407125       1.0\n",
       "std      4.866690   4896.395605   32.299430       0.0\n",
       "min     15.000000   4629.700000    1.000000       1.0\n",
       "25%     23.000000  10470.612500    9.000000       1.0\n",
       "50%     26.000000  13201.355000   21.000000       1.0\n",
       "75%     29.000000  16705.740000   44.750000       1.0\n",
       "max     41.000000  35668.120000  241.000000       1.0"
      ]
     },
     "execution_count": 34,
     "metadata": {},
     "output_type": "execute_result"
    }
   ],
   "source": [
    "high=pf.loc[pf['Clusters']== 1]\n",
    "high.describe()"
   ]
  },
  {
   "cell_type": "code",
   "execution_count": 35,
   "id": "eb03bc18",
   "metadata": {},
   "outputs": [
    {
     "data": {
      "text/html": [
       "<div>\n",
       "<style scoped>\n",
       "    .dataframe tbody tr th:only-of-type {\n",
       "        vertical-align: middle;\n",
       "    }\n",
       "\n",
       "    .dataframe tbody tr th {\n",
       "        vertical-align: top;\n",
       "    }\n",
       "\n",
       "    .dataframe thead th {\n",
       "        text-align: right;\n",
       "    }\n",
       "</style>\n",
       "<table border=\"1\" class=\"dataframe\">\n",
       "  <thead>\n",
       "    <tr style=\"text-align: right;\">\n",
       "      <th></th>\n",
       "      <th>Frequency</th>\n",
       "      <th>Monetary</th>\n",
       "      <th>Recency</th>\n",
       "      <th>Clusters</th>\n",
       "      <th>Segments</th>\n",
       "    </tr>\n",
       "    <tr>\n",
       "      <th>Customer ID</th>\n",
       "      <th></th>\n",
       "      <th></th>\n",
       "      <th></th>\n",
       "      <th></th>\n",
       "      <th></th>\n",
       "    </tr>\n",
       "  </thead>\n",
       "  <tbody>\n",
       "    <tr>\n",
       "      <th>AA-375</th>\n",
       "      <td>8</td>\n",
       "      <td>654.49</td>\n",
       "      <td>182</td>\n",
       "      <td>2</td>\n",
       "      <td>Low</td>\n",
       "    </tr>\n",
       "    <tr>\n",
       "      <th>AA-480</th>\n",
       "      <td>5</td>\n",
       "      <td>2063.49</td>\n",
       "      <td>315</td>\n",
       "      <td>2</td>\n",
       "      <td>Low</td>\n",
       "    </tr>\n",
       "    <tr>\n",
       "      <th>AB-15</th>\n",
       "      <td>5</td>\n",
       "      <td>4607.13</td>\n",
       "      <td>413</td>\n",
       "      <td>2</td>\n",
       "      <td>Low</td>\n",
       "    </tr>\n",
       "    <tr>\n",
       "      <th>AB-150</th>\n",
       "      <td>4</td>\n",
       "      <td>3143.88</td>\n",
       "      <td>399</td>\n",
       "      <td>2</td>\n",
       "      <td>Low</td>\n",
       "    </tr>\n",
       "    <tr>\n",
       "      <th>AC-660</th>\n",
       "      <td>4</td>\n",
       "      <td>2676.09</td>\n",
       "      <td>298</td>\n",
       "      <td>2</td>\n",
       "      <td>Low</td>\n",
       "    </tr>\n",
       "    <tr>\n",
       "      <th>...</th>\n",
       "      <td>...</td>\n",
       "      <td>...</td>\n",
       "      <td>...</td>\n",
       "      <td>...</td>\n",
       "      <td>...</td>\n",
       "    </tr>\n",
       "    <tr>\n",
       "      <th>VG-11790</th>\n",
       "      <td>4</td>\n",
       "      <td>386.17</td>\n",
       "      <td>161</td>\n",
       "      <td>2</td>\n",
       "      <td>Low</td>\n",
       "    </tr>\n",
       "    <tr>\n",
       "      <th>VP-11730</th>\n",
       "      <td>4</td>\n",
       "      <td>432.00</td>\n",
       "      <td>163</td>\n",
       "      <td>2</td>\n",
       "      <td>Low</td>\n",
       "    </tr>\n",
       "    <tr>\n",
       "      <th>WB-11850</th>\n",
       "      <td>2</td>\n",
       "      <td>182.53</td>\n",
       "      <td>145</td>\n",
       "      <td>2</td>\n",
       "      <td>Low</td>\n",
       "    </tr>\n",
       "    <tr>\n",
       "      <th>XP-11865</th>\n",
       "      <td>3</td>\n",
       "      <td>1011.80</td>\n",
       "      <td>161</td>\n",
       "      <td>2</td>\n",
       "      <td>Low</td>\n",
       "    </tr>\n",
       "    <tr>\n",
       "      <th>ZC-11910</th>\n",
       "      <td>1</td>\n",
       "      <td>7.17</td>\n",
       "      <td>201</td>\n",
       "      <td>2</td>\n",
       "      <td>Low</td>\n",
       "    </tr>\n",
       "  </tbody>\n",
       "</table>\n",
       "<p>274 rows × 5 columns</p>\n",
       "</div>"
      ],
      "text/plain": [
       "             Frequency  Monetary  Recency  Clusters Segments\n",
       "Customer ID                                                 \n",
       "AA-375               8    654.49      182         2      Low\n",
       "AA-480               5   2063.49      315         2      Low\n",
       "AB-15                5   4607.13      413         2      Low\n",
       "AB-150               4   3143.88      399         2      Low\n",
       "AC-660               4   2676.09      298         2      Low\n",
       "...                ...       ...      ...       ...      ...\n",
       "VG-11790             4    386.17      161         2      Low\n",
       "VP-11730             4    432.00      163         2      Low\n",
       "WB-11850             2    182.53      145         2      Low\n",
       "XP-11865             3   1011.80      161         2      Low\n",
       "ZC-11910             1      7.17      201         2      Low\n",
       "\n",
       "[274 rows x 5 columns]"
      ]
     },
     "execution_count": 35,
     "metadata": {},
     "output_type": "execute_result"
    }
   ],
   "source": [
    "low =pf.loc[pf['Clusters']== 2]\n",
    "# ac.describe()\n",
    "low"
   ]
  },
  {
   "cell_type": "markdown",
   "id": "1bc73999",
   "metadata": {},
   "source": [
    "### Merging and saving data"
   ]
  },
  {
   "cell_type": "markdown",
   "id": "9d2e4310",
   "metadata": {},
   "source": [
    "### Analyzing Clusters\n",
    "\n",
    "From above,\n",
    "\n",
    "Cluster 0 has 530 customers\n",
    "\n",
    "Cluster 1 has 786 customers\n",
    "\n",
    "Cluster 2 has 274 customers\n",
    "\n",
    "Customers in Cluster 1 - High\n",
    "\n",
    "Customers in cluster 1 are the largest customer group and most active with a recency of 32.0 on average and they purchase the company's products more than customers in the other clusters. On average, they have had 26 transactions with the company within the years. They also contribute to the highest monetary value of about 13925.0 on average to the company. The company must put in an effort to maintain relationships with these as they are highly valuable.\n",
    "\n",
    "Customers in Cluster 2 - Low\n",
    "\n",
    "The least portion of the company's customers falls within this cluster. A customer in this cluster makes 5.0 transactions on the average yielding an average monetary value of 1747.0 to the company. These customers have the potential to spend more. The company should put up strategies to attract these customers more.\n",
    "\n",
    "Customers in Cluster 0 -Medium\n",
    "\n",
    "This is the second-largest group of customers and the second least in terms of activeness. However, the bridge between these customers and ones in cluster 1 is wide apart in terms of activeness. On average, the last time a customer in this group made a transaction with the company was about 7 months away from the snap-shot date. These customers however have a higher monetary value being the second highest at 2300.0 on the average. They are the second most important customer group to the company. The company should research more about their preferences and devise more strategies to attract and satisfy them since they are also the second cluster contributing to a higher monetary value of the company."
   ]
  },
  {
   "cell_type": "markdown",
   "id": "760af85c",
   "metadata": {},
   "source": [
    "#### Reseting data index"
   ]
  },
  {
   "cell_type": "code",
   "execution_count": 36,
   "id": "cff3bbbb",
   "metadata": {},
   "outputs": [],
   "source": [
    "# reseting index of pf data \n",
    "pf = pf.reset_index()\n",
    "\n",
    "\n",
    "# extracting CUSTOMER ID and SEgment from data pf\n",
    "clusters = pf[['Customer ID', 'Segments']]"
   ]
  },
  {
   "cell_type": "markdown",
   "id": "bf1af089",
   "metadata": {},
   "source": [
    "#### Merging clusters to original data"
   ]
  },
  {
   "cell_type": "code",
   "execution_count": 37,
   "id": "955c38e0",
   "metadata": {
    "scrolled": false
   },
   "outputs": [
    {
     "data": {
      "text/html": [
       "<div>\n",
       "<style scoped>\n",
       "    .dataframe tbody tr th:only-of-type {\n",
       "        vertical-align: middle;\n",
       "    }\n",
       "\n",
       "    .dataframe tbody tr th {\n",
       "        vertical-align: top;\n",
       "    }\n",
       "\n",
       "    .dataframe thead th {\n",
       "        text-align: right;\n",
       "    }\n",
       "</style>\n",
       "<table border=\"1\" class=\"dataframe\">\n",
       "  <thead>\n",
       "    <tr style=\"text-align: right;\">\n",
       "      <th></th>\n",
       "      <th>Row ID</th>\n",
       "      <th>Order ID</th>\n",
       "      <th>Order Date</th>\n",
       "      <th>Customer ID</th>\n",
       "      <th>Country</th>\n",
       "      <th>Market</th>\n",
       "      <th>Region</th>\n",
       "      <th>Product ID</th>\n",
       "      <th>Category</th>\n",
       "      <th>Sub-Category</th>\n",
       "      <th>Product Name</th>\n",
       "      <th>Sales</th>\n",
       "      <th>Quantity</th>\n",
       "      <th>Segments</th>\n",
       "    </tr>\n",
       "  </thead>\n",
       "  <tbody>\n",
       "    <tr>\n",
       "      <th>0</th>\n",
       "      <td>42433</td>\n",
       "      <td>AG-2011-2040</td>\n",
       "      <td>2011-01-01</td>\n",
       "      <td>TB-11280</td>\n",
       "      <td>Algeria</td>\n",
       "      <td>Africa</td>\n",
       "      <td>Africa</td>\n",
       "      <td>OFF-TEN-10000025</td>\n",
       "      <td>Office Supplies</td>\n",
       "      <td>Storage</td>\n",
       "      <td>Tenex Lockers, Blue</td>\n",
       "      <td>408.30</td>\n",
       "      <td>2</td>\n",
       "      <td>Low</td>\n",
       "    </tr>\n",
       "    <tr>\n",
       "      <th>1</th>\n",
       "      <td>47809</td>\n",
       "      <td>RS-2011-4710</td>\n",
       "      <td>2011-02-14</td>\n",
       "      <td>TB-11280</td>\n",
       "      <td>Russia</td>\n",
       "      <td>EMEA</td>\n",
       "      <td>EMEA</td>\n",
       "      <td>OFF-SAN-10004881</td>\n",
       "      <td>Office Supplies</td>\n",
       "      <td>Art</td>\n",
       "      <td>Sanford Pencil Sharpener, Easy-Erase</td>\n",
       "      <td>27.09</td>\n",
       "      <td>1</td>\n",
       "      <td>Low</td>\n",
       "    </tr>\n",
       "    <tr>\n",
       "      <th>2</th>\n",
       "      <td>46608</td>\n",
       "      <td>ML-2012-2380</td>\n",
       "      <td>2012-08-14</td>\n",
       "      <td>TB-11280</td>\n",
       "      <td>Mali</td>\n",
       "      <td>Africa</td>\n",
       "      <td>Africa</td>\n",
       "      <td>TEC-STA-10004536</td>\n",
       "      <td>Technology</td>\n",
       "      <td>Machines</td>\n",
       "      <td>StarTech Inkjet, Wireless</td>\n",
       "      <td>301.77</td>\n",
       "      <td>1</td>\n",
       "      <td>Low</td>\n",
       "    </tr>\n",
       "    <tr>\n",
       "      <th>3</th>\n",
       "      <td>43734</td>\n",
       "      <td>CA-2014-240</td>\n",
       "      <td>2014-03-18</td>\n",
       "      <td>TB-11280</td>\n",
       "      <td>Canada</td>\n",
       "      <td>Canada</td>\n",
       "      <td>Canada</td>\n",
       "      <td>OFF-ELD-10001477</td>\n",
       "      <td>Office Supplies</td>\n",
       "      <td>Storage</td>\n",
       "      <td>Eldon Lockers, Single Width</td>\n",
       "      <td>197.94</td>\n",
       "      <td>1</td>\n",
       "      <td>Low</td>\n",
       "    </tr>\n",
       "    <tr>\n",
       "      <th>4</th>\n",
       "      <td>43730</td>\n",
       "      <td>CA-2014-240</td>\n",
       "      <td>2014-03-18</td>\n",
       "      <td>TB-11280</td>\n",
       "      <td>Canada</td>\n",
       "      <td>Canada</td>\n",
       "      <td>Canada</td>\n",
       "      <td>OFF-TEN-10004270</td>\n",
       "      <td>Office Supplies</td>\n",
       "      <td>Storage</td>\n",
       "      <td>Tenex File Cart, Single Width</td>\n",
       "      <td>134.16</td>\n",
       "      <td>1</td>\n",
       "      <td>Low</td>\n",
       "    </tr>\n",
       "  </tbody>\n",
       "</table>\n",
       "</div>"
      ],
      "text/plain": [
       "   Row ID      Order ID Order Date Customer ID  Country  Market  Region  \\\n",
       "0   42433  AG-2011-2040 2011-01-01    TB-11280  Algeria  Africa  Africa   \n",
       "1   47809  RS-2011-4710 2011-02-14    TB-11280   Russia    EMEA    EMEA   \n",
       "2   46608  ML-2012-2380 2012-08-14    TB-11280     Mali  Africa  Africa   \n",
       "3   43734   CA-2014-240 2014-03-18    TB-11280   Canada  Canada  Canada   \n",
       "4   43730   CA-2014-240 2014-03-18    TB-11280   Canada  Canada  Canada   \n",
       "\n",
       "         Product ID         Category Sub-Category  \\\n",
       "0  OFF-TEN-10000025  Office Supplies      Storage   \n",
       "1  OFF-SAN-10004881  Office Supplies          Art   \n",
       "2  TEC-STA-10004536       Technology     Machines   \n",
       "3  OFF-ELD-10001477  Office Supplies      Storage   \n",
       "4  OFF-TEN-10004270  Office Supplies      Storage   \n",
       "\n",
       "                           Product Name   Sales  Quantity Segments  \n",
       "0                   Tenex Lockers, Blue  408.30         2      Low  \n",
       "1  Sanford Pencil Sharpener, Easy-Erase   27.09         1      Low  \n",
       "2             StarTech Inkjet, Wireless  301.77         1      Low  \n",
       "3           Eldon Lockers, Single Width  197.94         1      Low  \n",
       "4         Tenex File Cart, Single Width  134.16         1      Low  "
      ]
     },
     "execution_count": 37,
     "metadata": {},
     "output_type": "execute_result"
    }
   ],
   "source": [
    "# merging original dataset with clusters and customer ID\n",
    "final_CSA = pd.merge(left =store, right=clusters , how ='inner',on ='Customer ID')\n",
    "final_CSA.head()"
   ]
  },
  {
   "cell_type": "markdown",
   "id": "c71cd235",
   "metadata": {},
   "source": [
    "### Saving merged data"
   ]
  },
  {
   "cell_type": "code",
   "execution_count": 38,
   "id": "40fab71d",
   "metadata": {},
   "outputs": [],
   "source": [
    "# saving final dataset\n",
    "final_CSA.to_csv('Customer Segmentation.csv', index = False)"
   ]
  },
  {
   "cell_type": "markdown",
   "id": "50f05d09",
   "metadata": {},
   "source": [
    "### Conclusion and recommendation\n",
    "\n",
    "On a general note, the company has a low customer retention rate. Customer retention is the process of attracting repeat customers and keeping them from switching to a competitor.\n",
    "\n",
    "My recommendations include these strategies to improve their retention rate,\n",
    "\n",
    "1. Develop customer relationship-building strategies\n",
    "\n",
    "2. Determine customer lifetime value to show a customer's worth over a period of time. This strategy will help determine what the company should spend to engage their customers, especially in cluster 1 and can also help to predict revenue.\n",
    "\n",
    "3. Reward loyalty\n",
    "\n",
    "4. Based on the findings from analyzing the clusters, I recommend that the company should do further investigation into cluster 2 which is made up of inactive customers. This will inform the company of their needs and target them with their preferred products.\n",
    "\n",
    "5. I also recommend that more analysis should be done into the products the various clusters are affiliated with to enhance target marketing and cross-selling."
   ]
  },
  {
   "cell_type": "code",
   "execution_count": null,
   "id": "64faac6d",
   "metadata": {},
   "outputs": [],
   "source": []
  },
  {
   "cell_type": "code",
   "execution_count": null,
   "id": "39a0cebe",
   "metadata": {},
   "outputs": [],
   "source": []
  },
  {
   "cell_type": "code",
   "execution_count": null,
   "id": "54ccecfd",
   "metadata": {},
   "outputs": [],
   "source": []
  }
 ],
 "metadata": {
  "kernelspec": {
   "display_name": "Python 3 (ipykernel)",
   "language": "python",
   "name": "python3"
  },
  "language_info": {
   "codemirror_mode": {
    "name": "ipython",
    "version": 3
   },
   "file_extension": ".py",
   "mimetype": "text/x-python",
   "name": "python",
   "nbconvert_exporter": "python",
   "pygments_lexer": "ipython3",
   "version": "3.9.7"
  }
 },
 "nbformat": 4,
 "nbformat_minor": 5
}
